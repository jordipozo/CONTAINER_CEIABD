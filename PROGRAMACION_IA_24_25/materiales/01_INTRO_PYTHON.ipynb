{
 "cells": [
  {
   "cell_type": "markdown",
   "metadata": {
    "slideshow": {
     "slide_type": "slide"
    }
   },
   "source": [
    "<img src=\"img/logo.jpeg\" width=\"100\">\n",
    "\n",
    "## Programación de Inteligencia Artificial\n",
    "### Lenguaje de programación PYTHON\n",
    "### Presentación del bloque\n",
    "\n",
    "![logo](img/python_logo.png)"
   ]
  },
  {
   "cell_type": "markdown",
   "metadata": {},
   "source": [
    "## Presentación\n",
    "\n",
    "*Jordi Pozo*  \n",
    "Profesor CC.FF. Familia Informática y Comunicaciones.  \n",
    "*I.E.S. Ribera de Castilla*  \n",
    "**E-mail: jpozoc@educa.jcyl.es**"
   ]
  },
  {
   "cell_type": "markdown",
   "metadata": {
    "slideshow": {
     "slide_type": "subslide"
    }
   },
   "source": [
    "## Objetivos\n",
    "- Diseñar e implementar programas básicos en Python\n",
    "- Conocer cómo desarrollar scripts y Jupyter Notebook\n",
    "- Saber importar y configurar módulos externos comunes en un entorno propio\n",
    "- Familiarización con modulos para análisis de datos (NumPy, pandas, matplotlib)\n",
    "- Conocer las técnicas básicas de análisis de datos\n"
   ]
  },
  {
   "cell_type": "markdown",
   "metadata": {},
   "source": [
    "## Metodología\n",
    "\n",
    "- Clase teórico-práctica\n",
    "- Prácticas grupales\n",
    "- Resolución de ejercicios y tareas\n",
    "- Trabajo Autónomo"
   ]
  },
  {
   "cell_type": "markdown",
   "metadata": {},
   "source": [
    "## Sesiones\n",
    "\n",
    "- MARTES, DE 17:50 HORAS A 20:45 HORAS\n",
    "- VIERNES, DE 19:00 HORAS A 21:40 HORAS\n",
    "\n",
    "Horas totales del módulo: 110. "
   ]
  },
  {
   "cell_type": "markdown",
   "metadata": {
    "slideshow": {
     "slide_type": "slide"
    }
   },
   "source": [
    "## Recursos de la asignatura\n",
    "- En el equipo de Microsoft Teams:\n",
    " - Apuntes de la asignatura\n",
    " - Jupyter notebooks de las clases\n",
    " - Actividades (descripción y entregas)\n",
    " \n",
    "* Microsoft One Drive\n",
    "   https://educajcyl-my.sharepoint.com/:f:/g/personal/jpozoc_educa_jcyl_es/EleroiZf0K5EhL1168R0854BD9VjVmulobGfRNzbIPgGOw?e=UVmY4W"
   ]
  },
  {
   "cell_type": "markdown",
   "metadata": {
    "slideshow": {
     "slide_type": "fragment"
    }
   },
   "source": [
    "## Documentación oficial \n",
    " - Python: https://docs.python.org/3/\n",
    " - NumPy: https://docs.scipy.org/doc/\n",
    " - pandas: https://pandas.pydata.org/index.html\n",
    " - matplotlib: https://matplotlib.org/"
   ]
  },
  {
   "cell_type": "markdown",
   "metadata": {},
   "source": [
    "## Actividades y Entregas\n",
    "\n",
    "### Portfolio (Evaluación Continua) - 50%\n",
    "\n",
    "### Examen - 50%\n",
    "\n",
    "### Entrega de notebooks a través de las tareas de Ms Teams"
   ]
  },
  {
   "cell_type": "markdown",
   "metadata": {
    "slideshow": {
     "slide_type": "subslide"
    }
   },
   "source": [
    "## Instalación local\n",
    "- Recomendado: uso de contenedor Docker proporcionado desde el aula.\n",
    " - Incluye módulos para el curso (__NumPy__, __pandas__, __matplotlib__, __jupyter notebook__...)\n",
    "- Posibilidad de utilizar Anaconda:\n",
    "    - http://docs.anaconda.com/anaconda/install/\n",
    "    - https://docs.anaconda.com/anaconda/user-guide/getting-started\n",
    "- Jupyter Notebook / Jupyter Lab\n",
    "- Instalación y ejecución del interprete de Python:\n",
    " - MacOS / Linux / Windows, en la terminal: __python__, __ipython__\n",
    " - En contenedor, utilizaremos la versión determinada como base: 3.11.6\n",
    "- Google Colab\n",
    "- Otros IDE, VSCode, PyCharm,..."
   ]
  },
  {
   "cell_type": "markdown",
   "metadata": {
    "slideshow": {
     "slide_type": "slide"
    }
   },
   "source": [
    "## Uso de Jupyter notebook\n",
    "- Presentaciones, ejercicios, actividades... __todo__ notebooks\n",
    "- Markdown/HTML + codigo en vivo\n",
    "- Markdown = https://www.markdownguide.org/\n",
    "- Facilita la colaboración y la presentación interactiva de código\n",
    "- En la terminal: __jupyter notebook__\n",
    "- Archivos _.ipynb_\n",
    "- Documentación https://jupyter.readthedocs.io/en/latest/"
   ]
  },
  {
   "cell_type": "markdown",
   "metadata": {
    "slideshow": {
     "slide_type": "subslide"
    }
   },
   "source": [
    "## Contenidos\n",
    "\n",
    "#### Introducción a la sintaxis de Python 3"
   ]
  },
  {
   "cell_type": "code",
   "execution_count": 1,
   "metadata": {
    "slideshow": {
     "slide_type": "fragment"
    }
   },
   "outputs": [
    {
     "name": "stdout",
     "output_type": "stream",
     "text": [
      "[11, 12, 13]\n"
     ]
    }
   ],
   "source": [
    "# funcion para sumar dos elementos\n",
    "def suma(a,b):\n",
    "    return a+b\n",
    "\n",
    "lista = [1,2,3]\n",
    "\n",
    "for i,value in enumerate(lista):\n",
    "    lista[i] = suma(value,10)\n",
    "    \n",
    "print(lista)"
   ]
  },
  {
   "cell_type": "markdown",
   "metadata": {
    "slideshow": {
     "slide_type": "fragment"
    }
   },
   "source": [
    "#### Colecciones\n",
    "\n",
    "#### Uso de librerías fundamentales\n",
    "- NumPy"
   ]
  },
  {
   "cell_type": "code",
   "execution_count": 2,
   "metadata": {
    "ExecuteTime": {
     "end_time": "2023-10-20T10:22:41.778453Z",
     "start_time": "2023-10-20T10:22:41.636270Z"
    },
    "slideshow": {
     "slide_type": "fragment"
    }
   },
   "outputs": [
    {
     "data": {
      "text/plain": [
       "array([[ 50,  16],\n",
       "       [135, 181],\n",
       "       [169, 127],\n",
       "       [132,  62],\n",
       "       [ 77,  61],\n",
       "       [ 34,  51],\n",
       "       [ 23, 103],\n",
       "       [ 49, 168],\n",
       "       [ 82, 107],\n",
       "       [178, 123]])"
      ]
     },
     "execution_count": 2,
     "metadata": {},
     "output_type": "execute_result"
    }
   ],
   "source": [
    "import numpy as np\n",
    "\n",
    "random_list = np.random.randint(200,size=(10,2))\n",
    "random_list"
   ]
  },
  {
   "cell_type": "markdown",
   "metadata": {
    "slideshow": {
     "slide_type": "subslide"
    }
   },
   "source": [
    "- pandas"
   ]
  },
  {
   "cell_type": "code",
   "execution_count": 3,
   "metadata": {
    "ExecuteTime": {
     "end_time": "2023-10-20T10:22:48.681627Z",
     "start_time": "2023-10-20T10:22:48.671170Z"
    },
    "slideshow": {
     "slide_type": "fragment"
    }
   },
   "outputs": [
    {
     "data": {
      "text/html": [
       "<div>\n",
       "<style scoped>\n",
       "    .dataframe tbody tr th:only-of-type {\n",
       "        vertical-align: middle;\n",
       "    }\n",
       "\n",
       "    .dataframe tbody tr th {\n",
       "        vertical-align: top;\n",
       "    }\n",
       "\n",
       "    .dataframe thead th {\n",
       "        text-align: right;\n",
       "    }\n",
       "</style>\n",
       "<table border=\"1\" class=\"dataframe\">\n",
       "  <thead>\n",
       "    <tr style=\"text-align: right;\">\n",
       "      <th></th>\n",
       "      <th>0</th>\n",
       "      <th>1</th>\n",
       "    </tr>\n",
       "  </thead>\n",
       "  <tbody>\n",
       "    <tr>\n",
       "      <th>0</th>\n",
       "      <td>50</td>\n",
       "      <td>16</td>\n",
       "    </tr>\n",
       "    <tr>\n",
       "      <th>1</th>\n",
       "      <td>135</td>\n",
       "      <td>181</td>\n",
       "    </tr>\n",
       "    <tr>\n",
       "      <th>2</th>\n",
       "      <td>169</td>\n",
       "      <td>127</td>\n",
       "    </tr>\n",
       "    <tr>\n",
       "      <th>3</th>\n",
       "      <td>132</td>\n",
       "      <td>62</td>\n",
       "    </tr>\n",
       "    <tr>\n",
       "      <th>4</th>\n",
       "      <td>77</td>\n",
       "      <td>61</td>\n",
       "    </tr>\n",
       "    <tr>\n",
       "      <th>5</th>\n",
       "      <td>34</td>\n",
       "      <td>51</td>\n",
       "    </tr>\n",
       "    <tr>\n",
       "      <th>6</th>\n",
       "      <td>23</td>\n",
       "      <td>103</td>\n",
       "    </tr>\n",
       "    <tr>\n",
       "      <th>7</th>\n",
       "      <td>49</td>\n",
       "      <td>168</td>\n",
       "    </tr>\n",
       "    <tr>\n",
       "      <th>8</th>\n",
       "      <td>82</td>\n",
       "      <td>107</td>\n",
       "    </tr>\n",
       "    <tr>\n",
       "      <th>9</th>\n",
       "      <td>178</td>\n",
       "      <td>123</td>\n",
       "    </tr>\n",
       "  </tbody>\n",
       "</table>\n",
       "</div>"
      ],
      "text/plain": [
       "     0    1\n",
       "0   50   16\n",
       "1  135  181\n",
       "2  169  127\n",
       "3  132   62\n",
       "4   77   61\n",
       "5   34   51\n",
       "6   23  103\n",
       "7   49  168\n",
       "8   82  107\n",
       "9  178  123"
      ]
     },
     "execution_count": 3,
     "metadata": {},
     "output_type": "execute_result"
    }
   ],
   "source": [
    "import pandas as pd\n",
    "\n",
    "frame = pd.DataFrame(random_list)\n",
    "frame"
   ]
  },
  {
   "cell_type": "markdown",
   "metadata": {
    "slideshow": {
     "slide_type": "fragment"
    }
   },
   "source": [
    "- matplotlib & seaborn"
   ]
  },
  {
   "cell_type": "code",
   "execution_count": 4,
   "metadata": {
    "ExecuteTime": {
     "end_time": "2023-10-20T10:22:57.862796Z",
     "start_time": "2023-10-20T10:22:55.654491Z"
    },
    "slideshow": {
     "slide_type": "fragment"
    }
   },
   "outputs": [
    {
     "data": {
      "image/png": "[encoded data removed]",
      "text/plain": [
       "<Figure size 640x480 with 1 Axes>"
      ]
     },
     "metadata": {},
     "output_type": "display_data"
    }
   ],
   "source": [
    "%matplotlib inline\n",
    "import matplotlib.pyplot as plt\n",
    "frame.plot()\n",
    "plt.show()"
   ]
  },
  {
   "cell_type": "markdown",
   "metadata": {
    "slideshow": {
     "slide_type": "subslide"
    }
   },
   "source": [
    "#### Introducción a análisis de datos (EDA) en Python\n",
    "- Trabajar con strings\n",
    "- Limpieza de datos\n",
    "- Escritura y lectura de datos"
   ]
  },
  {
   "cell_type": "markdown",
   "metadata": {},
   "source": [
    "#### Generadores\n",
    "- Generadores en Python\n",
    "- Expresiones Generadoras\n",
    "  - Pipelines de datos\n",
    "- Generadores para entrenar modelos\n",
    "- Generadores de imágenes\n",
    "  - Flow\n",
    "  - Augmentations\n",
    "- Generadores de datos custom"
   ]
  },
  {
   "cell_type": "markdown",
   "metadata": {},
   "source": [
    "#### NLP - Procesamiento de Lenguaje Natural\n",
    "- NLTK\n",
    "- Concordancia\n",
    "- Frecuencia de palabras\n",
    "- Seleccionar palabras\n",
    "- Bigramas y colocaciones\n",
    "- Stemming y lematización\n",
    "- Texto online\n",
    "- Extraer texto de HTML\n",
    "- Análisis de sentimiento"
   ]
  },
  {
   "cell_type": "markdown",
   "metadata": {},
   "source": [
    "#### OCR - Reconocimiento Óptico de Caracteres"
   ]
  },
  {
   "cell_type": "markdown",
   "metadata": {},
   "source": [
    "#### Análisis de imágenes\n",
    "- OpenCV\n",
    "- Cargar/Mostrar imagen\n",
    "- Operaciones elementales\n",
    "- Blending\n",
    "- Border detection\n",
    "- Face detection"
   ]
  },
  {
   "cell_type": "markdown",
   "metadata": {
    "slideshow": {
     "slide_type": "subslide"
    }
   },
   "source": [
    "### Homework Jupyter notebook\n",
    "- Entorno Anaconda + Python + Jupyter Notebook instalado\n",
    "- Creación de notebooks\n",
    "- Creación de tipos de celdas\n",
    " - Markdown para texto e imágenes\n",
    " - Code para código"
   ]
  },
  {
   "cell_type": "markdown",
   "metadata": {
    "collapsed": false
   },
   "source": []
  },
  {
   "cell_type": "markdown",
   "metadata": {
    "collapsed": false
   },
   "source": [
    "## <img src=\"img/by-nc.png\" width=\"200\">"
   ]
  }
 ],
 "metadata": {
  "celltoolbar": "Slideshow",
  "kernelspec": {
   "display_name": "base",
   "language": "python",
   "name": "python3"
  },
  "language_info": {
   "codemirror_mode": {
    "name": "ipython",
    "version": 3
   },
   "file_extension": ".py",
   "mimetype": "text/x-python",
   "name": "python",
   "nbconvert_exporter": "python",
   "pygments_lexer": "ipython3",
   "version": "3.11.6"
  },
  "metadata": {
   "interpreter": {
    "hash": "f35a06f707b9576dd6b3ef079e74b1f578cbc33a28427aac1052a70586e6d412"
   }
  }
 },
 "nbformat": 4,
 "nbformat_minor": 4
}
